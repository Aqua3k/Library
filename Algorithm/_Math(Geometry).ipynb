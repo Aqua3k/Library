{
 "cells": [
  {
   "cell_type": "code",
   "execution_count": null,
   "metadata": {},
   "outputs": [],
   "source": [
    "\"\"\"\n",
    "ベクトル(x, y)とベクトル(1, 0)のなす角度を\n",
    "度数法で返す\n",
    "-180 < 戻り値 <= 180\n",
    "\"\"\"\n",
    "import cmath\n",
    "import math\n",
    "def CalcDeg(x,y):\n",
    "    c = complex(x, y)\n",
    "    p = math.degrees(cmath.phase(c))\n",
    "    return p"
   ]
  },
  {
   "cell_type": "code",
   "execution_count": 3,
   "metadata": {},
   "outputs": [],
   "source": [
    "\"\"\"\n",
    "2点(xs, ys), (xt, yt)を通る直線\n",
    "ax + by + c = 0\n",
    "を計算する(a,b,cを返す)\n",
    "Note: 引数がすべて整数なら戻り値も全部整数\n",
    "\"\"\"\n",
    "def calc_coefficient(xs, ys, xt, yt):\n",
    "    a = -(yt-ys)\n",
    "    b = xt-xs\n",
    "    c = (yt-ys)*xs - (xt-xs)*ys\n",
    "    return a,b,c"
   ]
  },
  {
   "cell_type": "code",
   "execution_count": null,
   "metadata": {},
   "outputs": [],
   "source": [
    "\"\"\"\n",
    "2つの直線\n",
    "a1*x + b1*y + c1 = 0\n",
    "a2*x + b2*y + c2 = 0\n",
    "の交点(x, y)を返す\n",
    "Note: 直線が交わらない場合は(float(\"Inf\"), float(\"Inf\"))を返す\n",
    "\"\"\"\n",
    "def CalcIntersection(a1,b1,c1,a2,b2,c2):\n",
    "    if a1*b2 - a2*b1 == 0: return float(\"Inf\"), float(\"Inf\")\n",
    "    else: return (b1*c2 - b2*c1)/(a1*b2 - a2*b1), (a2*c1 - a1*c2)/(a1*b2 - a2*b1)"
   ]
  },
  {
   "cell_type": "code",
   "execution_count": 6,
   "metadata": {},
   "outputs": [],
   "source": [
    "\"\"\"\n",
    "三角形の面積を計算する\n",
    "◆引数\n",
    "    3点 (x1,y1) (x2,y2) (x3,y3)の座標情報\n",
    "◆戻り値\n",
    "    与えた3点を頂点とする三角形の面積\n",
    "    Note: 戻り値は小数\n",
    "\"\"\"\n",
    "def Heron(x1,y1,x2,y2,x3,y3):\n",
    "    dis_12 = ( (x1-x2)**2 + (y1-y2)**2 )**0.5\n",
    "    dis_23 = ( (x2-x3)**2 + (y2-y3)**2 )**0.5\n",
    "    dis_31 = ( (x3-x1)**2 + (y3-y1)**2 )**0.5\n",
    "    s = (dis_12 + dis_23 + dis_31)/2\n",
    "    return( (s*(s-dis_12)*(s-dis_23)*(s-dis_31) )**0.5 )"
   ]
  },
  {
   "cell_type": "code",
   "execution_count": 9,
   "metadata": {},
   "outputs": [],
   "source": [
    "\"\"\"\n",
    "三角形の面積を計算する\n",
    "◆引数\n",
    "    3辺の長さ(d1,d2,d3)\n",
    "◆戻り値\n",
    "    面積\n",
    "    Note: 戻り値は小数\n",
    "\"\"\"\n",
    "def Heron(d1,d2,d3):\n",
    "    s = (d1 + d2 + d3)/2\n",
    "    return( (s*(s-d1)*(s-d2)*(s-d3) )**0.5 )"
   ]
  },
  {
   "cell_type": "code",
   "execution_count": 20,
   "metadata": {},
   "outputs": [],
   "source": [
    "\"\"\"\n",
    "四角形の面積\n",
    "Note: 円に内接する四角形しか使えない\n",
    "◆引数\n",
    "    4点 (x1,y1) (x2,y2) (x3,y3) (x4,y4)の座標情報\n",
    "◆戻り値\n",
    "    与えた4角形の面積\n",
    "    Note: 戻り値は小数\n",
    "\"\"\"\n",
    "def Brahmagupta(x1,y1,x2,y2,x3,y3,x4,y4):\n",
    "    dis_12 = ( (x1-x2)**2 + (y1-y2)**2 )**0.5\n",
    "    dis_23 = ( (x2-x3)**2 + (y2-y3)**2 )**0.5\n",
    "    dis_34 = ( (x3-x4)**2 + (y3-y4)**2 )**0.5\n",
    "    dis_41 = ( (x4-x1)**2 + (y4-y1)**2 )**0.5\n",
    "    s = (dis_12 + dis_23 + dis_34 + dis_41)/2\n",
    "    return( ((s-dis_12)*(s-dis_23)*(s-dis_34)*(s-dis_41) )**0.5 )"
   ]
  },
  {
   "cell_type": "code",
   "execution_count": null,
   "metadata": {},
   "outputs": [],
   "source": [
    "\"\"\"\n",
    "点と直線の距離を計算する\n",
    "◆引数\n",
    "    点(x, y)\n",
    "    直線 ax + by + c = 0\n",
    "◆戻り値\n",
    "    与えた点と直線の距離\n",
    "    Note: 戻り値は小数\n",
    "\"\"\"\n",
    "def CalcPointToLine(a,b,c,x0,y0):\n",
    "    if a == 0:\n",
    "        ans = abs(y0-c/b)\n",
    "    elif b == 0:\n",
    "        ans = abs(x0-c/a)\n",
    "    else:\n",
    "        ans = abs(a*x0 + b*y0 + c)/((a**2 + b**2)**0.5)\n",
    "    return(ans)"
   ]
  },
  {
   "cell_type": "code",
   "execution_count": null,
   "metadata": {},
   "outputs": [],
   "source": [
    "\"\"\"\n",
    "三角形ABCの角Aの種類を判別する\n",
    "◆引数\n",
    "    三角形ABCの頂点情報\n",
    "    (Ax,Ay,Bx,By,Cx,Cy)\n",
    "◆戻り値:\n",
    "    0 鋭角\n",
    "    1 直角\n",
    "    2 鈍角\n",
    "Note: 引数がすべて整数である限り誤差は出ない\n",
    "\"\"\"\n",
    "def CalcDist2(x1,y1,x2,y2): return (x1-x2)**2 + (y1-y2)**2\n",
    "def ClassifyAngleAType(ax,ay,bx,by,cx,cy):\n",
    "    d_a2, d_b2, d_c2 = CalcDist2(bx,by,cx,cy),\\\n",
    "        CalcDist2(ax,ay,cx,cy), CalcDist2(bx,by,ax,ay)\n",
    "    if d_b2 + d_c2 - d_a2 < 0:  return 2\n",
    "    if d_b2 + d_c2 - d_a2 == 0: return 1\n",
    "    return 0"
   ]
  }
 ],
 "metadata": {
  "kernelspec": {
   "display_name": "Python 3",
   "language": "python",
   "name": "python3"
  },
  "language_info": {
   "codemirror_mode": {
    "name": "ipython",
    "version": 3
   },
   "file_extension": ".py",
   "mimetype": "text/x-python",
   "name": "python",
   "nbconvert_exporter": "python",
   "pygments_lexer": "ipython3",
   "version": "3.10.1"
  }
 },
 "nbformat": 4,
 "nbformat_minor": 2
}
