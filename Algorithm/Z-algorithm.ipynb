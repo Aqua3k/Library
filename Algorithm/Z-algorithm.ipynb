{
 "cells": [
  {
   "cell_type": "code",
   "execution_count": null,
   "metadata": {},
   "outputs": [],
   "source": [
    "def z_algo(S):\n",
    "    \"\"\"\n",
    "    Z-アルゴリズム\n",
    "    文字列Sの各 i について S と S[i:|S|-1] の最長共通接頭辞を求める\n",
    "\n",
    "    計算量O(|S|)\n",
    "    \"\"\"\n",
    "    N = len(S)\n",
    "    A = [0]*N\n",
    "    i = 1; j = 0\n",
    "    A[0] = l = len(S)\n",
    "    while i < l:\n",
    "        while i+j < l and S[j] == S[i+j]:\n",
    "            j += 1\n",
    "        if not j:\n",
    "            i += 1\n",
    "            continue\n",
    "        A[i] = j\n",
    "        k = 1\n",
    "        while l-i > k < j - A[k]:\n",
    "            A[i+k] = A[k]\n",
    "            k += 1\n",
    "        i += k; j -= k\n",
    "    return A"
   ]
  }
 ],
 "metadata": {
  "kernelspec": {
   "display_name": "Python 3",
   "language": "python",
   "name": "python3"
  },
  "language_info": {
   "codemirror_mode": {
    "name": "ipython",
    "version": 3
   },
   "file_extension": ".py",
   "mimetype": "text/x-python",
   "name": "python",
   "nbconvert_exporter": "python",
   "pygments_lexer": "ipython3",
   "version": "3.7.1"
  }
 },
 "nbformat": 4,
 "nbformat_minor": 2
}
