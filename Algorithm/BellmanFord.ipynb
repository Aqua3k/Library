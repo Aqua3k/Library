{
 "cells": [
  {
   "cell_type": "code",
   "execution_count": null,
   "metadata": {},
   "outputs": [],
   "source": [
    "def bellman_ford(n, edges, start, inf=float('inf')):\n",
    "    \"\"\"\n",
    "    startから到達可能な負閉路のうち、影響を受けるコストのみ-infとなるベルマンフォード\\n\n",
    "    n：頂点数                                            \\n\n",
    "    edges：辺の情報                                      \\n\n",
    "        ei = [from_i, to_i, cost_i]                     \\n\n",
    "        edges = [e1, e2, ..., em]の2次元配列             \\n\n",
    "    start：始点                                          \\n\n",
    "    計算量：O(n*m)\n",
    "\n",
    "    問題の例\n",
    "    https://atcoder.jp/contests/abc061/tasks/abc061_d   \\n\n",
    "    https://atcoder.jp/contests/abc137/tasks/abc137_e\n",
    "    \"\"\"\n",
    "    dists = [inf] * n\n",
    "    dists[start] = 0\n",
    "    for i in range(2 * n):\n",
    "        for fr, to, dist in edges:\n",
    "            if (dists[fr] != inf) and (dists[to] > dists[fr] + dist):\n",
    "                dists[to] = dists[fr] + dist\n",
    "                if i == n - 1:\n",
    "                    dists[to] = -inf\n",
    "    return dists"
   ]
  }
 ],
 "metadata": {
  "kernelspec": {
   "display_name": "Python 3",
   "language": "python",
   "name": "python3"
  },
  "language_info": {
   "codemirror_mode": {
    "name": "ipython",
    "version": 3
   },
   "file_extension": ".py",
   "mimetype": "text/x-python",
   "name": "python",
   "nbconvert_exporter": "python",
   "pygments_lexer": "ipython3",
   "version": "3.7.1"
  }
 },
 "nbformat": 4,
 "nbformat_minor": 2
}
