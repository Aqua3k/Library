{
 "cells": [
  {
   "cell_type": "code",
   "execution_count": null,
   "metadata": {},
   "outputs": [],
   "source": [
    "\"\"\"\n",
    "ダイクストラ法\n",
    "N: 頂点数\n",
    "G: 2次元配列 G[i] = (頂点w, cost)\n",
    "s: 始点\n",
    "\"\"\"\n",
    "from heapq import heappush, heappop\n",
    "INF = float(\"Inf\")\n",
    "def dijkstra(N, G, s):\n",
    "    dist = [INF] * N\n",
    "    que = [(0, s)]\n",
    "    dist[s] = 0\n",
    "    while que:\n",
    "        c, v = heappop(que)\n",
    "        if dist[v] < c:\n",
    "            continue\n",
    "        for t, cost in G[v]:\n",
    "            if dist[v] + cost < dist[t]:\n",
    "                dist[t] = dist[v] + cost\n",
    "                heappush(que, (dist[t], t))\n",
    "                \n",
    "    return dist"
   ]
  }
 ],
 "metadata": {
  "kernelspec": {
   "display_name": "Python 3",
   "language": "python",
   "name": "python3"
  },
  "language_info": {
   "codemirror_mode": {
    "name": "ipython",
    "version": 3
   },
   "file_extension": ".py",
   "mimetype": "text/x-python",
   "name": "python",
   "nbconvert_exporter": "python",
   "pygments_lexer": "ipython3",
   "version": "3.7.1"
  }
 },
 "nbformat": 4,
 "nbformat_minor": 2
}
