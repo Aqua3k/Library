{
 "cells": [
  {
   "cell_type": "code",
   "execution_count": null,
   "metadata": {},
   "outputs": [],
   "source": [
    "def inv_gcd(a, b):\n",
    "    a = a%b\n",
    "    if a == 0:\n",
    "        return b,0\n",
    "    s,t = b,a\n",
    "    m0,m1 = 0,1\n",
    "    while t:\n",
    "        u = s//t\n",
    "        s -= t*u\n",
    "        m0 -= m1*u\n",
    "        s,t = t,s\n",
    "        m0,m1 = m1,m0\n",
    "    if m0 < 0:\n",
    "        m0 += b//s\n",
    "    return s,m0\n",
    "\n",
    "def crt(r, m):\n",
    "    \"\"\"\n",
    "    中国剰余定理\n",
    "    A ≡ Xi mod Yi (i=1,2,..., n)                \\n\n",
    "    に対し                                      \\n\n",
    "    A ≡ X mod LCM(Y1, Y2,..., Yn)               \\n\n",
    "    となる一意の X を返す                        \\n\n",
    "\n",
    "    引数：　[X1, X2,..., Xn], [Y1, Y2,..., Yn]   \\n\n",
    "    戻り値：X, m　(m = 0のとき答えなし)            \\n\n",
    "\n",
    "    計算量：O(N log(max(Yi)))\n",
    "    \"\"\"\n",
    "    n = len(r)\n",
    "    r0 = 0\n",
    "    m0 = 1\n",
    "    for i in range(n):\n",
    "        r1 = r[i]%m[i]\n",
    "        m1 = m[i]\n",
    "        if m0 < m1:\n",
    "            r0,r1 = r1,r0\n",
    "            m0,m1 = m1,m0\n",
    "        if m0%m1 == 0:\n",
    "            if r0%m1 != r1:\n",
    "                return 0,0\n",
    "            continue\n",
    "        g,im = inv_gcd(m0,m1)\n",
    "        u1 = m1//g\n",
    "        if (r1-r0)%g:\n",
    "            return 0, 0\n",
    "        x = (r1-r0)//g%u1*im%u1\n",
    "        r0 += x*m0\n",
    "        m0 *= u1\n",
    "        if r0 < 0:\n",
    "            r0 += m0\n",
    "    return r0,m0"
   ]
  }
 ],
 "metadata": {
  "kernelspec": {
   "display_name": "Python 3",
   "language": "python",
   "name": "python3"
  },
  "language_info": {
   "codemirror_mode": {
    "name": "ipython",
    "version": 3
   },
   "file_extension": ".py",
   "mimetype": "text/x-python",
   "name": "python",
   "nbconvert_exporter": "python",
   "pygments_lexer": "ipython3",
   "version": "3.7.1"
  }
 },
 "nbformat": 4,
 "nbformat_minor": 2
}
