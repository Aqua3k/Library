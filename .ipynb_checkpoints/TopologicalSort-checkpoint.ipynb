{
 "cells": [
  {
   "cell_type": "code",
   "execution_count": null,
   "metadata": {},
   "outputs": [],
   "source": [
    "\"\"\"\n",
    "有向非循環グラフをソートする\n",
    "詳しくは調べること\n",
    "\n",
    "計算量：(N+M)\n",
    "※頂点の数+辺の数\n",
    "\"\"\"\n",
    "from collections import deque, defaultdict\n",
    "\n",
    "n, m = map(int, input().split())\n",
    "ab = []\n",
    "for _ in range(m):\n",
    "    ab.append(tuple(map(int, input().split())))\n",
    "\n",
    "in_cnt = defaultdict(int)\n",
    "outs = defaultdict(list)\n",
    "for a, b in ab:\n",
    "    in_cnt[b - 1] += 1\n",
    "    outs[a - 1].append(b - 1)\n",
    "\n",
    "res = []\n",
    "queue = deque([i for i in range(n) if in_cnt[i] == 0])\n",
    "while len(queue) != 0:\n",
    "    v = queue.popleft()\n",
    "    res.append(v)\n",
    "    for v2 in outs[v]:\n",
    "        in_cnt[v2] -= 1\n",
    "        if in_cnt[v2] == 0:\n",
    "            queue.append(v2)\n",
    "            \n",
    "print(res)\n",
    "#resの中にソート済みのものが入る"
   ]
  }
 ],
 "metadata": {
  "kernelspec": {
   "display_name": "Python 3",
   "language": "python",
   "name": "python3"
  },
  "language_info": {
   "codemirror_mode": {
    "name": "ipython",
    "version": 3
   },
   "file_extension": ".py",
   "mimetype": "text/x-python",
   "name": "python",
   "nbconvert_exporter": "python",
   "pygments_lexer": "ipython3",
   "version": "3.7.1"
  }
 },
 "nbformat": 4,
 "nbformat_minor": 2
}
