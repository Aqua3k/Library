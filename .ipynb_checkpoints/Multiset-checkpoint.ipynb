{
 "cells": [
  {
   "cell_type": "code",
   "execution_count": null,
   "metadata": {},
   "outputs": [],
   "source": [
    "\"\"\"\n",
    "multisetもどき\n",
    "順序付きプライオリティキュー\n",
    "参考：https://tsubo.hatenablog.jp/entry/2020/06/15/124657\n",
    "\n",
    "できること\n",
    "multisetへ値を追加する　　　　　　　　　　　O(1)　　　　multiset.insert(int)\n",
    "multisetから最小値を取得する(削除はしない)　O(log(N))   int = multiset.get_min()\n",
    "multiset内任意の値を削除する　　　　　　　　O(log(N))　 multiset.erase(int)\n",
    "multisetに任意の値が存在するか確認する　　　O(1)　　　　bool = multiset.is_exist(int)\n",
    "\n",
    "注意点\n",
    "最大値を扱うときはheapqのときと同様、各要素に-1をかけること\n",
    "削除できないときはメッセージが出力されるので try and except 構文でキャッチすること\n",
    "\"\"\"\n",
    "import heapq\n",
    "from sys import exit\n",
    "class HeapDict:\n",
    "    def __init__(self):\n",
    "        self.h=[]\n",
    "        self.d=dict()\n",
    "\n",
    "    def insert(self,x):\n",
    "        heapq.heappush(self.h,x)\n",
    "        if x not in self.d:\n",
    "            self.d[x]=1\n",
    "        else:\n",
    "            self.d[x]+=1\n",
    "\n",
    "    def erase(self,x):\n",
    "        if x not in self.d or self.d[x]==0:\n",
    "            print(x,\"is not in HeapDict\")\n",
    "            exit()\n",
    "        else:\n",
    "            self.d[x]-=1\n",
    "\n",
    "        while len(self.h)!=0:\n",
    "            if self.d[self.h[0]]==0:\n",
    "                heapq.heappop(self.h)\n",
    "            else:\n",
    "                break\n",
    "\n",
    "    def is_exist(self,x):\n",
    "        if x in self.d and self.d[x]!=0:\n",
    "            return True\n",
    "        else:\n",
    "            return False\n",
    "\n",
    "    def get_min(self):\n",
    "        return self.h[0]"
   ]
  }
 ],
 "metadata": {
  "kernelspec": {
   "display_name": "Python 3",
   "language": "python",
   "name": "python3"
  },
  "language_info": {
   "codemirror_mode": {
    "name": "ipython",
    "version": 3
   },
   "file_extension": ".py",
   "mimetype": "text/x-python",
   "name": "python",
   "nbconvert_exporter": "python",
   "pygments_lexer": "ipython3",
   "version": "3.7.1"
  }
 },
 "nbformat": 4,
 "nbformat_minor": 2
}
