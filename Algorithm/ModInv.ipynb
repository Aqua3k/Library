{
 "cells": [
  {
   "cell_type": "code",
   "execution_count": null,
   "metadata": {},
   "outputs": [],
   "source": [
    "\"\"\"\n",
    "逆元計算\n",
    "    modinv(a,m)\n",
    "    → mod mのaの逆元xを返す\n",
    "      (a * x ≡ 1 (mod m))\n",
    "◆戻り値\n",
    "    0 <= x <= m-1   逆元\n",
    "    -1              逆元が存在しないとき\n",
    "\n",
    "◆Note\n",
    "    mが素数の時はフェルマーの小定理で十分\n",
    "    pypyではなくpythonならpow(a,-1,m)で十分\n",
    "    pypyだとpow(a,-1,m)は使えない(バージョンの問題?)\n",
    "\n",
    "    pythonでpow(a,-1,m)を使うときの注意\n",
    "    逆元が存在しない時はエラーになるので\n",
    "    try and exceptなどで例外処理すること\n",
    "\"\"\"\n",
    "\n",
    "def xgcd(a, b):\n",
    "    x0, y0, x1, y1 = 1, 0, 0, 1\n",
    "    while b != 0:\n",
    "        q, a, b = a // b, b, a % b\n",
    "        x0, x1 = x1, x0 - q * x1\n",
    "        y0, y1 = y1, y0 - q * y1\n",
    "    return a, x0, y0\n",
    "  \n",
    "def modinv(a, m):\n",
    "    g, x, y = xgcd(a, m)\n",
    "    if g != 1:\n",
    "        return -1\n",
    "    else:\n",
    "        return x % m"
   ]
  }
 ],
 "metadata": {
  "kernelspec": {
   "display_name": "Python 3",
   "language": "python",
   "name": "python3"
  },
  "language_info": {
   "codemirror_mode": {
    "name": "ipython",
    "version": 3
   },
   "file_extension": ".py",
   "mimetype": "text/x-python",
   "name": "python",
   "nbconvert_exporter": "python",
   "pygments_lexer": "ipython3",
   "version": "3.7.1"
  }
 },
 "nbformat": 4,
 "nbformat_minor": 2
}
