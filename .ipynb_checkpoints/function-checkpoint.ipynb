{
 "cells": [
  {
   "cell_type": "code",
   "execution_count": 3,
   "metadata": {},
   "outputs": [],
   "source": [
    "#配列Ａの最大公約数\n",
    "import math\n",
    "def gcd_all(A):\n",
    "    x = A[0]\n",
    "    if len(A) == 1:\n",
    "        ret = A[0]\n",
    "    else:\n",
    "        for i in range(1,len(A)):\n",
    "            x = math.gcd(x,A[i])\n",
    "        ret = x\n",
    "    return ret\n",
    "\n",
    "#素因数分解\n",
    "def fact(A): #fact(int)\n",
    "    c0 = A\n",
    "    r = 2\n",
    "    lis = []\n",
    "    count = 1\n",
    "    while A != 1:\n",
    "        if A%r == 0:\n",
    "            A = A//r\n",
    "            lis.append(r)\n",
    "            r = 2\n",
    "        else:\n",
    "            r += 1\n",
    "        if r > int(pow(c0,0.5))+1:\n",
    "            lis.append(A)\n",
    "            break\n",
    "    return(lis)\n",
    "\n",
    "#約数を列挙　O(N^0.5)\n",
    "def div(n):\n",
    "    lower_divisors , upper_divisors = [], []\n",
    "    i = 1\n",
    "    while i*i <= n:\n",
    "        if n % i == 0:\n",
    "            lower_divisors.append(i)\n",
    "            if i != n // i:\n",
    "                upper_divisors.append(n//i)\n",
    "        i += 1\n",
    "    return lower_divisors + upper_divisors[::-1]\n",
    "\n",
    "#conbination\n",
    "import math\n",
    "def comb(n, r): #comb(int, int)\n",
    "    return math.factorial(n) // (math.factorial(n - r) * math.factorial(r))\n",
    "\n",
    "#combnationの剰余を計算する方法\n",
    "#フェルマーの小定理利用\n",
    "def factorial_mod(n,mod):\n",
    "    ret = 1\n",
    "    for i in range(1,n+1):\n",
    "        ret *= i\n",
    "        ret %= mod\n",
    "    return ret\n",
    "def comb_mod(n,r,mod):\n",
    "    if r > n or r < 0:\n",
    "        ret = 0\n",
    "    else:\n",
    "        fact_n  = factorial_mod(n, mod)\n",
    "        fact_r  = factorial_mod(r, mod)\n",
    "        fact_nr = factorial_mod(n-r, mod)\n",
    "        ret = fact_n * pow(fact_r, mod-2, mod) * pow(fact_nr, mod-2, mod) % mod\n",
    "    return ret\n",
    "\n",
    "\"\"\"\n",
    "ミラー・ラビン素数判定法\n",
    "\"\"\"\n",
    "import random\n",
    "def is_prime(n):\n",
    "    if n == 2: return True\n",
    "    if n == 1 or n & 1 == 0: return False\n",
    "\n",
    "    d = (n - 1) >> 1\n",
    "    while d & 1 == 0:\n",
    "        d >>= 1\n",
    "\n",
    "    for k in range(100):\n",
    "        a = random.randint(1, n - 1)\n",
    "        t = d\n",
    "        y = pow(a, t, n)\n",
    "\n",
    "        while t != n - 1 and y != 1 and y != n - 1:\n",
    "            y = (y * y) % n\n",
    "            t <<= 1\n",
    "\n",
    "        if y != n - 1 and t & 1 == 0:\n",
    "            return False\n",
    "\n",
    "    return True\n",
    "\n",
    "\n",
    "\"\"\"\n",
    "確率的じゃないミラーラビン素数判定法\n",
    "時間計算量 log(N)\n",
    "ただしN < 2**64\n",
    "参考:https://rsk0315.hatenablog.com/entry/2021/01/18/065720#MillerRabin-%E3%81%AE%E8%A9%B1\n",
    "\"\"\"\n",
    "def is_prime(n):\n",
    "    if n == 2: return True\n",
    "    if n == 1 or n & 1 == 0: return False\n",
    "    \n",
    "    d = n - 1\n",
    "    s = 0\n",
    "    while d % 2 == 0:\n",
    "        d >>= 1\n",
    "        s += 1\n",
    "        \n",
    "    L = [2, 325, 9375, 28178, 450775, 9780504, 1795265022]\n",
    "    \n",
    "    for a in L:\n",
    "        if n <= a:\n",
    "            return True\n",
    "        a = pow(a, d, n)\n",
    "        if a == 1:\n",
    "            continue\n",
    "        r = 1\n",
    "        while a != n - 1:\n",
    "            if r == s:\n",
    "                return False\n",
    "            a = a * a % n\n",
    "            r += 1\n",
    "    return True\n"
   ]
  },
  {
   "cell_type": "code",
   "execution_count": 29,
   "metadata": {},
   "outputs": [],
   "source": [
    "# 最大公約数\n",
    "#order O(log(n))\n",
    "def gcd(a, b): #gcd(int, int)\n",
    "    if a<b:\n",
    "        a,b = b,a\n",
    "    r = a%b\n",
    "    while r != 0:\n",
    "        a = b\n",
    "        b = r\n",
    "        r = a % b\n",
    "    return b"
   ]
  },
  {
   "cell_type": "code",
   "execution_count": 30,
   "metadata": {},
   "outputs": [
    {
     "name": "stdout",
     "output_type": "stream",
     "text": [
      "6\n"
     ]
    }
   ],
   "source": [
    "print(gcd(12,18))"
   ]
  },
  {
   "cell_type": "code",
   "execution_count": 31,
   "metadata": {},
   "outputs": [],
   "source": [
    "#最小公倍数\n",
    "#order O(log(n))\n",
    "def lcm(a, b): #lcm(int, int)\n",
    "    if a<b:\n",
    "        a,b = b,a\n",
    "    x = a*b\n",
    "    r = a%b\n",
    "    while r != 0:\n",
    "        a = b\n",
    "        b = r\n",
    "        r = a % b\n",
    "    return x//b\n"
   ]
  },
  {
   "cell_type": "code",
   "execution_count": 32,
   "metadata": {},
   "outputs": [
    {
     "name": "stdout",
     "output_type": "stream",
     "text": [
      "36\n"
     ]
    }
   ],
   "source": [
    "print(lcm(12,18))"
   ]
  },
  {
   "cell_type": "code",
   "execution_count": 33,
   "metadata": {},
   "outputs": [],
   "source": [
    "#2次元配列の出力\n",
    "#order O(N**2)\n",
    "def print2(A,S): #print2(int a[:][:], str)\n",
    "    for i in range(len(A)):\n",
    "        b = [str(n) for n in A[i][:]]\n",
    "        print(S.join(b))"
   ]
  },
  {
   "cell_type": "code",
   "execution_count": 40,
   "metadata": {},
   "outputs": [
    {
     "name": "stdout",
     "output_type": "stream",
     "text": [
      "1 2 3\n",
      "a b c\n",
      "1-2-3\n",
      "a-b-c\n"
     ]
    }
   ],
   "source": [
    "a = [[1,2,3],[\"a\",\"b\",\"c\"]]\n",
    "print2(a,\" \")\n",
    "print2(a,\"-\")"
   ]
  },
  {
   "cell_type": "code",
   "execution_count": 36,
   "metadata": {},
   "outputs": [],
   "source": [
    "#素因数分解\n",
    "# order O(log(N)*N**0.5)?\n",
    "def fact(A): #fact(int)\n",
    "    c0 = A\n",
    "    r = 2\n",
    "    lis = []\n",
    "    count = 1\n",
    "    while A != 1:\n",
    "        if A%r == 0:\n",
    "            A = A//r\n",
    "            lis.append(r)\n",
    "            r = 2\n",
    "        else:\n",
    "            r += 1\n",
    "        if r > int(pow(c0,0.5))+1:\n",
    "            lis.append(A)\n",
    "            break\n",
    "    return(lis)"
   ]
  },
  {
   "cell_type": "code",
   "execution_count": 37,
   "metadata": {},
   "outputs": [
    {
     "name": "stdout",
     "output_type": "stream",
     "text": [
      "[2, 2, 7]\n"
     ]
    }
   ],
   "source": [
    "print(fact(28))"
   ]
  },
  {
   "cell_type": "code",
   "execution_count": 1,
   "metadata": {},
   "outputs": [],
   "source": [
    "import math\n",
    "def comb(n, r):\n",
    "    return math.factorial(n) // (math.factorial(n - r) * math.factorial(r))"
   ]
  },
  {
   "cell_type": "code",
   "execution_count": 2,
   "metadata": {},
   "outputs": [
    {
     "name": "stdout",
     "output_type": "stream",
     "text": [
      "6\n"
     ]
    }
   ],
   "source": [
    "print(comb(4,2))"
   ]
  },
  {
   "cell_type": "code",
   "execution_count": 6,
   "metadata": {},
   "outputs": [],
   "source": [
    "#三角形の面積\n",
    "def heron(x1,y1,x2,y2,x3,y3): # (x,y) * 3\n",
    "    dis_12 = ( (x1-x2)**2 + (y1-y2)**2 )**0.5\n",
    "    dis_23 = ( (x2-x3)**2 + (y2-y3)**2 )**0.5\n",
    "    dis_31 = ( (x3-x1)**2 + (y3-y1)**2 )**0.5\n",
    "    s = (dis_12 + dis_23 + dis_31)/2\n",
    "    return( (s*(s-dis_12)*(s-dis_23)*(s-dis_31) )**0.5 )"
   ]
  },
  {
   "cell_type": "code",
   "execution_count": 7,
   "metadata": {},
   "outputs": [
    {
     "name": "stdout",
     "output_type": "stream",
     "text": [
      "1.9999999999999625\n"
     ]
    }
   ],
   "source": [
    "print(heron(-1 ,-2, 3, 4, 5, 6))"
   ]
  },
  {
   "cell_type": "code",
   "execution_count": 9,
   "metadata": {},
   "outputs": [],
   "source": [
    "#三角形の面積2\n",
    "def heron2(dis1,dis2,dis3):\n",
    "    s = (dis1 + dis2 + dis3)/2\n",
    "    return( (s*(s-dis1)*(s-dis2)*(s-dis3) )**0.5 )"
   ]
  },
  {
   "cell_type": "code",
   "execution_count": 10,
   "metadata": {},
   "outputs": [
    {
     "name": "stdout",
     "output_type": "stream",
     "text": [
      "6.0\n"
     ]
    }
   ],
   "source": [
    "print(heron2(3,4,5))"
   ]
  },
  {
   "cell_type": "code",
   "execution_count": 20,
   "metadata": {},
   "outputs": [],
   "source": [
    "#四角形の面積　円に内接する四角形しか使えない！\n",
    "def brahmagupta(x1,y1,x2,y2,x3,y3,x4,y4): # (x,y) * 4\n",
    "    dis_12 = ( (x1-x2)**2 + (y1-y2)**2 )**0.5\n",
    "    dis_23 = ( (x2-x3)**2 + (y2-y3)**2 )**0.5\n",
    "    dis_34 = ( (x3-x4)**2 + (y3-y4)**2 )**0.5\n",
    "    dis_41 = ( (x4-x1)**2 + (y4-y1)**2 )**0.5\n",
    "    s = (dis_12 + dis_23 + dis_34 + dis_41)/2\n",
    "    return( ((s-dis_12)*(s-dis_23)*(s-dis_34)*(s-dis_41) )**0.5 )"
   ]
  },
  {
   "cell_type": "code",
   "execution_count": 21,
   "metadata": {},
   "outputs": [
    {
     "name": "stdout",
     "output_type": "stream",
     "text": [
      "1.0\n"
     ]
    }
   ],
   "source": [
    "print(brahmagupta(0,0,0,1,1,1,1,0))"
   ]
  },
  {
   "cell_type": "code",
   "execution_count": 25,
   "metadata": {},
   "outputs": [],
   "source": [
    "#点と直線の距離  dis(ax + by + c = 0, (x0, y0))\n",
    "# a,bは非ゼロ！\n",
    "def dis_point_to_line(a,b,c,x0,y0):\n",
    "    return(abs(a*x0 + b*y0 + c)/((a**2 + b**2)**0.5))"
   ]
  },
  {
   "cell_type": "code",
   "execution_count": 28,
   "metadata": {},
   "outputs": [
    {
     "name": "stdout",
     "output_type": "stream",
     "text": [
      "2.23606797749979\n"
     ]
    }
   ],
   "source": [
    "print(dis_point_to_line(2,1,-4,-2,3))"
   ]
  },
  {
   "cell_type": "code",
   "execution_count": 31,
   "metadata": {},
   "outputs": [],
   "source": [
    "#点と直線の距離  dis(ax + by + c = 0, (x0, y0))\n",
    "def dis_point_to_line(a,b,c,x0,y0):\n",
    "    if a == 0:\n",
    "        ans = abs(y0-c/b)\n",
    "    elif b == 0:\n",
    "        ans = abs(x0-c/a)\n",
    "    else:\n",
    "        ans = abs(a*x0 + b*y0 + c)/((a**2 + b**2)**0.5)\n",
    "    return(ans)"
   ]
  },
  {
   "cell_type": "code",
   "execution_count": 33,
   "metadata": {},
   "outputs": [
    {
     "name": "stdout",
     "output_type": "stream",
     "text": [
      "0.9999500037496877\n"
     ]
    }
   ],
   "source": [
    "print(dis_point_to_line(2,1,-4,-2,3))"
   ]
  },
  {
   "cell_type": "code",
   "execution_count": 1,
   "metadata": {},
   "outputs": [],
   "source": [
    "#combnationの剰余を計算する方法\n",
    "#フェルマーの小定理利用\n",
    "# 0621一部修正(高速化)\n",
    "def factorial_mod(n,mod):\n",
    "    ret = 1\n",
    "    for i in range(1,n+1):\n",
    "        ret *= i\n",
    "        ret %= mod\n",
    "    return ret\n",
    "def comb_mod(n,r,mod):\n",
    "    if r > n or r < 0:\n",
    "        ret = 0\n",
    "    else:\n",
    "        fact_n  = factorial_mod(n, mod)\n",
    "        fact_r  = factorial_mod(r, mod)\n",
    "        fact_nr = factorial_mod(n-r, mod)\n",
    "        ret = fact_n * pow(fact_r, mod-2, mod) * pow(fact_nr, mod-2, mod) % mod\n",
    "    return ret"
   ]
  },
  {
   "cell_type": "code",
   "execution_count": 2,
   "metadata": {},
   "outputs": [
    {
     "data": {
      "text/plain": [
       "4"
      ]
     },
     "execution_count": 2,
     "metadata": {},
     "output_type": "execute_result"
    }
   ],
   "source": [
    "comb_mod(4,3,10**9+7)"
   ]
  },
  {
   "cell_type": "code",
   "execution_count": null,
   "metadata": {},
   "outputs": [],
   "source": []
  }
 ],
 "metadata": {
  "kernelspec": {
   "display_name": "Python 3",
   "language": "python",
   "name": "python3"
  },
  "language_info": {
   "codemirror_mode": {
    "name": "ipython",
    "version": 3
   },
   "file_extension": ".py",
   "mimetype": "text/x-python",
   "name": "python",
   "nbconvert_exporter": "python",
   "pygments_lexer": "ipython3",
   "version": "3.7.1"
  }
 },
 "nbformat": 4,
 "nbformat_minor": 2
}
