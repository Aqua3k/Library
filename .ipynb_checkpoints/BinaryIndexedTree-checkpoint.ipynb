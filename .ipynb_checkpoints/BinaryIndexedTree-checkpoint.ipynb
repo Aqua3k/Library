{
 "cells": [
  {
   "cell_type": "code",
   "execution_count": null,
   "metadata": {},
   "outputs": [],
   "source": [
    "\"\"\"\n",
    "Binary Indexed Tree\n",
    "使い方の例\n",
    "https://atcoder.jp/contests/practice2/tasks/practice2_b\n",
    "正直セグ木の方が便利\n",
    "\"\"\"\n",
    "class Binary_Indexed_Tree:\n",
    " \n",
    "    def __init__(self,n):\n",
    "        self.size=n\n",
    "        self.graph=[0]*(n+1)\n",
    " \n",
    "    def partially_sum(self,i):\n",
    "        res=0\n",
    "        while i>0:\n",
    "            res+=self.graph[i]\n",
    "            i-=i&-i\n",
    "        return res\n",
    " \n",
    "    def add_element(self,i,x):\n",
    "        while self.size>=i:\n",
    "            self.graph[i]+=x\n",
    "            i+=i&-i\n",
    "    \n",
    "    def ret_sum(self,l,r):\n",
    "        return self.partially_sum(r)-self.partially_sum(l)"
   ]
  }
 ],
 "metadata": {
  "kernelspec": {
   "display_name": "Python 3",
   "language": "python",
   "name": "python3"
  },
  "language_info": {
   "codemirror_mode": {
    "name": "ipython",
    "version": 3
   },
   "file_extension": ".py",
   "mimetype": "text/x-python",
   "name": "python",
   "nbconvert_exporter": "python",
   "pygments_lexer": "ipython3",
   "version": "3.7.1"
  }
 },
 "nbformat": 4,
 "nbformat_minor": 2
}
