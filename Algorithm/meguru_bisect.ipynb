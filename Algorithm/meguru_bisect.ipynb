{
 "cells": [
  {
   "cell_type": "code",
   "execution_count": null,
   "metadata": {},
   "outputs": [],
   "source": [
    "def is_ok(arg):\n",
    "    \"\"\"条件を満たすかどうか？問題ごとに定義\"\"\"\n",
    "    return                # 条件式を返す\n",
    "\n",
    "def meguru_bisect(ng, ok):\n",
    "    '''\n",
    "    めぐる式2分探索\n",
    "    https://aotamasaki.hatenablog.com/entry/meguru_bisect\n",
    "    '''\n",
    "    while (abs(ok - ng) > 1):\n",
    "        mid = (ok + ng) // 2\n",
    "        if is_ok(mid):\n",
    "            ok = mid\n",
    "        else:\n",
    "            ng = mid\n",
    "    return ok"
   ]
  }
 ],
 "metadata": {
  "kernelspec": {
   "display_name": "Python 3",
   "language": "python",
   "name": "python3"
  },
  "language_info": {
   "codemirror_mode": {
    "name": "ipython",
    "version": 3
   },
   "file_extension": ".py",
   "mimetype": "text/x-python",
   "name": "python",
   "nbconvert_exporter": "python",
   "pygments_lexer": "ipython3",
   "version": "3.7.1"
  }
 },
 "nbformat": 4,
 "nbformat_minor": 2
}
