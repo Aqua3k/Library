{
 "cells": [
  {
   "cell_type": "code",
   "execution_count": null,
   "metadata": {},
   "outputs": [],
   "source": [
    "def MulMtx(a, b, mod) :\n",
    "    I, J, K = len(a), len(b[0]), len(b)\n",
    "    c = [[0] * J for _ in range(I)]\n",
    "    for i in range(I) :\n",
    "        for j in range(J) :\n",
    "            for k in range(K) :\n",
    "                c[i][j] += a[i][k] * b[k][j]\n",
    "            c[i][j] %= mod\n",
    "    return c\n",
    "def PowMtx(A, n, mod):\n",
    "    \"\"\"\n",
    "    行列累乗(ダブリング)\\n\n",
    "    ◆引数   PowMtx(A, n, mod)\n",
    "        A:\n",
    "            累乗する行列\n",
    "            Note: 正方行列ではないといけない\n",
    "        n:\n",
    "            累乗する数\n",
    "    ◆戻り値\n",
    "        A^nの各値をmodした2次元配列\n",
    "    ◆計算量\n",
    "        len(A)^2 * log(n)\n",
    "    \"\"\"\n",
    "    y = [[0] * len(A) for _ in range(len(A))]\n",
    "    for i in range(len(A)): y[i][i] = 1\n",
    "    while n > 0:\n",
    "        if n & 1: y = MulMtx(A, y, mod)\n",
    "        A = MulMtx(A, A, mod)\n",
    "        n >>= 1\n",
    "    return y"
   ]
  }
 ],
 "metadata": {
  "kernelspec": {
   "display_name": "Python 3",
   "language": "python",
   "name": "python3"
  },
  "language_info": {
   "codemirror_mode": {
    "name": "ipython",
    "version": 3
   },
   "file_extension": ".py",
   "mimetype": "text/x-python",
   "name": "python",
   "nbconvert_exporter": "python",
   "pygments_lexer": "ipython3",
   "version": "3.7.1"
  }
 },
 "nbformat": 4,
 "nbformat_minor": 2
}
