{
 "cells": [
  {
   "cell_type": "code",
   "execution_count": null,
   "metadata": {},
   "outputs": [],
   "source": [
    "#めぐる式2分探索\n",
    "#https://aotamasaki.hatenablog.com/entry/meguru_bisect\n",
    "\n",
    "def is_ok(arg):\n",
    "    # 条件を満たすかどうか？問題ごとに定義\n",
    "    return                # 条件式を返す\n",
    "\n",
    "\n",
    "def meguru_bisect(ng, ok):\n",
    "    '''\n",
    "    初期値のng,okを受け取り,is_okを満たす最小(最大)のokを返す\n",
    "    まずis_okを定義すべし\n",
    "    ng ok は  とり得る最小の値-1 とり得る最大の値+1\n",
    "    最大最小が逆の場合はよしなにひっくり返す\n",
    "    '''\n",
    "    while (abs(ok - ng) > 1):\n",
    "        mid = (ok + ng) // 2\n",
    "        if is_ok(mid):\n",
    "            ok = mid\n",
    "        else:\n",
    "            ng = mid\n",
    "    return ok"
   ]
  }
 ],
 "metadata": {
  "kernelspec": {
   "display_name": "Python 3",
   "language": "python",
   "name": "python3"
  },
  "language_info": {
   "codemirror_mode": {
    "name": "ipython",
    "version": 3
   },
   "file_extension": ".py",
   "mimetype": "text/x-python",
   "name": "python",
   "nbconvert_exporter": "python",
   "pygments_lexer": "ipython3",
   "version": "3.7.1"
  }
 },
 "nbformat": 4,
 "nbformat_minor": 2
}
