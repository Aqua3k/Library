{
 "cells": [
  {
   "cell_type": "code",
   "execution_count": 3,
   "metadata": {},
   "outputs": [],
   "source": [
    "def coefficient"
   ]
  },
  {
   "cell_type": "code",
   "execution_count": 6,
   "metadata": {},
   "outputs": [],
   "source": [
    "#三角形の面積\n",
    "def heron(x1,y1,x2,y2,x3,y3): # (x,y) * 3\n",
    "    dis_12 = ( (x1-x2)**2 + (y1-y2)**2 )**0.5\n",
    "    dis_23 = ( (x2-x3)**2 + (y2-y3)**2 )**0.5\n",
    "    dis_31 = ( (x3-x1)**2 + (y3-y1)**2 )**0.5\n",
    "    s = (dis_12 + dis_23 + dis_31)/2\n",
    "    return( (s*(s-dis_12)*(s-dis_23)*(s-dis_31) )**0.5 )"
   ]
  },
  {
   "cell_type": "code",
   "execution_count": 7,
   "metadata": {},
   "outputs": [
    {
     "name": "stdout",
     "output_type": "stream",
     "text": [
      "1.9999999999999625\n"
     ]
    }
   ],
   "source": [
    "print(heron(-1 ,-2, 3, 4, 5, 6))"
   ]
  },
  {
   "cell_type": "code",
   "execution_count": 9,
   "metadata": {},
   "outputs": [],
   "source": [
    "#三角形の面積2\n",
    "def heron2(dis1,dis2,dis3):\n",
    "    s = (dis1 + dis2 + dis3)/2\n",
    "    return( (s*(s-dis1)*(s-dis2)*(s-dis3) )**0.5 )"
   ]
  },
  {
   "cell_type": "code",
   "execution_count": 10,
   "metadata": {},
   "outputs": [
    {
     "name": "stdout",
     "output_type": "stream",
     "text": [
      "6.0\n"
     ]
    }
   ],
   "source": [
    "print(heron2(3,4,5))"
   ]
  },
  {
   "cell_type": "code",
   "execution_count": 20,
   "metadata": {},
   "outputs": [],
   "source": [
    "#四角形の面積　円に内接する四角形しか使えない！\n",
    "def brahmagupta(x1,y1,x2,y2,x3,y3,x4,y4): # (x,y) * 4\n",
    "    dis_12 = ( (x1-x2)**2 + (y1-y2)**2 )**0.5\n",
    "    dis_23 = ( (x2-x3)**2 + (y2-y3)**2 )**0.5\n",
    "    dis_34 = ( (x3-x4)**2 + (y3-y4)**2 )**0.5\n",
    "    dis_41 = ( (x4-x1)**2 + (y4-y1)**2 )**0.5\n",
    "    s = (dis_12 + dis_23 + dis_34 + dis_41)/2\n",
    "    return( ((s-dis_12)*(s-dis_23)*(s-dis_34)*(s-dis_41) )**0.5 )"
   ]
  },
  {
   "cell_type": "code",
   "execution_count": 21,
   "metadata": {},
   "outputs": [
    {
     "name": "stdout",
     "output_type": "stream",
     "text": [
      "1.0\n"
     ]
    }
   ],
   "source": [
    "print(brahmagupta(0,0,0,1,1,1,1,0))"
   ]
  },
  {
   "cell_type": "code",
   "execution_count": 25,
   "metadata": {},
   "outputs": [],
   "source": [
    "#点と直線の距離  dis(ax + by + c = 0, (x0, y0))\n",
    "# a,bは非ゼロ！\n",
    "def dis_point_to_line(a,b,c,x0,y0):\n",
    "    return(abs(a*x0 + b*y0 + c)/((a**2 + b**2)**0.5))"
   ]
  },
  {
   "cell_type": "code",
   "execution_count": 28,
   "metadata": {},
   "outputs": [
    {
     "name": "stdout",
     "output_type": "stream",
     "text": [
      "2.23606797749979\n"
     ]
    }
   ],
   "source": [
    "print(dis_point_to_line(2,1,-4,-2,3))"
   ]
  },
  {
   "cell_type": "code",
   "execution_count": 31,
   "metadata": {},
   "outputs": [],
   "source": [
    "#点と直線の距離  dis(ax + by + c = 0, (x0, y0))\n",
    "def dis_point_to_line(a,b,c,x0,y0):\n",
    "    if a == 0:\n",
    "        ans = abs(y0-c/b)\n",
    "    elif b == 0:\n",
    "        ans = abs(x0-c/a)\n",
    "    else:\n",
    "        ans = abs(a*x0 + b*y0 + c)/((a**2 + b**2)**0.5)\n",
    "    return(ans)"
   ]
  },
  {
   "cell_type": "code",
   "execution_count": 33,
   "metadata": {},
   "outputs": [
    {
     "name": "stdout",
     "output_type": "stream",
     "text": [
      "0.9999500037496877\n"
     ]
    }
   ],
   "source": [
    "print(dis_point_to_line(2,1,-4,-2,3))"
   ]
  }
 ],
 "metadata": {
  "kernelspec": {
   "display_name": "Python 3",
   "language": "python",
   "name": "python3"
  },
  "language_info": {
   "codemirror_mode": {
    "name": "ipython",
    "version": 3
   },
   "file_extension": ".py",
   "mimetype": "text/x-python",
   "name": "python",
   "nbconvert_exporter": "python",
   "pygments_lexer": "ipython3",
   "version": "3.7.1"
  }
 },
 "nbformat": 4,
 "nbformat_minor": 2
}
