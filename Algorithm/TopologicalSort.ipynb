{
 "cells": [
  {
   "cell_type": "code",
   "execution_count": null,
   "metadata": {},
   "outputs": [],
   "source": [
    "from collections import deque, defaultdict\n",
    "\n",
    "def TopologicalSort(n,ab):\n",
    "    \"\"\"\n",
    "    有向非循環グラフをソートする\n",
    "\n",
    "    計算量：(N+M)\\n\n",
    "    引数：\n",
    "        n  頂点の数\\n\n",
    "        ab 辺の情報の2次元配列(1-index)\n",
    "    \"\"\"\n",
    "    in_cnt = defaultdict(int)\n",
    "    outs = defaultdict(list)\n",
    "    for a, b in ab:\n",
    "        in_cnt[b - 1] += 1\n",
    "        outs[a - 1].append(b - 1)\n",
    "\n",
    "    res = []\n",
    "    queue = deque([i for i in range(n) if in_cnt[i] == 0])\n",
    "    while len(queue) != 0:\n",
    "        v = queue.popleft()\n",
    "        res.append(v)\n",
    "        for v2 in outs[v]:\n",
    "            in_cnt[v2] -= 1\n",
    "            if in_cnt[v2] == 0:\n",
    "                queue.append(v2)\n",
    "    return res\n"
   ]
  }
 ],
 "metadata": {
  "interpreter": {
   "hash": "376b97d19d696cb292ec2aacf6231e9db3d0c100b88a90285cddcfe63958b46b"
  },
  "kernelspec": {
   "display_name": "Python 3.7.1 64-bit ('base': conda)",
   "name": "python3"
  },
  "language_info": {
   "codemirror_mode": {
    "name": "ipython",
    "version": 3
   },
   "file_extension": ".py",
   "mimetype": "text/x-python",
   "name": "python",
   "nbconvert_exporter": "python",
   "pygments_lexer": "ipython3",
   "version": "3.7.1"
  }
 },
 "nbformat": 4,
 "nbformat_minor": 2
}
