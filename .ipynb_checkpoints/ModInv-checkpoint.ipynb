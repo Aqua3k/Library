{
 "cells": [
  {
   "cell_type": "code",
   "execution_count": null,
   "metadata": {},
   "outputs": [],
   "source": [
    "\"\"\"\n",
    "mod_invライブラリ\n",
    "modinv(a,m)はmod mのaの逆元xを返す\n",
    "0 <= x <= m-1　逆元\n",
    "-1　　　　　　 逆元が存在しないとき\n",
    "\n",
    "注意点\n",
    "mが素数の時はフェルマーの小定理で十分\n",
    "pypyじゃなくてpythonならpow(a,-1,m)で十分\n",
    "pypyだとpow(a,-1,m)でエラー吐くことがあったのでライブラリ化しておく\n",
    "\n",
    "ついでにpythonでpow(a,-1,m)を使うときの注意\n",
    "逆元が存在しない時はエラーになるのでtry and exceptで例外処理すること\n",
    "\"\"\"\n",
    "\n",
    "def xgcd(a, b):\n",
    "    x0, y0, x1, y1 = 1, 0, 0, 1\n",
    "    while b != 0:\n",
    "        q, a, b = a // b, b, a % b\n",
    "        x0, x1 = x1, x0 - q * x1\n",
    "        y0, y1 = y1, y0 - q * y1\n",
    "    return a, x0, y0\n",
    "  \n",
    "def modinv(a, m):\n",
    "    g, x, y = xgcd(a, m)\n",
    "    if g != 1:\n",
    "        return -1\n",
    "    else:\n",
    "        return x % m"
   ]
  }
 ],
 "metadata": {
  "kernelspec": {
   "display_name": "Python 3",
   "language": "python",
   "name": "python3"
  },
  "language_info": {
   "codemirror_mode": {
    "name": "ipython",
    "version": 3
   },
   "file_extension": ".py",
   "mimetype": "text/x-python",
   "name": "python",
   "nbconvert_exporter": "python",
   "pygments_lexer": "ipython3",
   "version": "3.7.1"
  }
 },
 "nbformat": 4,
 "nbformat_minor": 2
}
