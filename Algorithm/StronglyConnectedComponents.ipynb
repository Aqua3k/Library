{
 "cells": [
  {
   "cell_type": "code",
   "execution_count": null,
   "metadata": {},
   "outputs": [],
   "source": [
    "'''\n",
    "強連結成分分解(SCC)\n",
    "scc\n",
    "N:頂点数\n",
    "G:隣接リスト\n",
    "RG;逆順の隣接リスト\n",
    "'''\n",
    "import sys\n",
    "sys.setrecursionlimit(10**9)\n",
    "def scc(N, G, RG):\n",
    "    order = []\n",
    "    used = [0]*N\n",
    "    group = [None]*N\n",
    "    def dfs(s):\n",
    "        used[s] = 1\n",
    "        for t in G[s]:\n",
    "            if not used[t]:\n",
    "                dfs(t)\n",
    "        order.append(s)\n",
    "    def rdfs(s, col):\n",
    "        group[s] = col\n",
    "        used[s] = 1\n",
    "        for t in RG[s]:\n",
    "            if not used[t]:\n",
    "                rdfs(t, col)\n",
    "    for i in range(N):\n",
    "        if not used[i]:\n",
    "            dfs(i)\n",
    "    used = [0]*N\n",
    "    label = 0\n",
    "    for s in reversed(order):\n",
    "        if not used[s]:\n",
    "            rdfs(s, label)\n",
    "            label += 1\n",
    "    return label, group\n",
    "\n",
    "# 縮約後のグラフを構築\n",
    "def construct(N, G, label, group):\n",
    "    G0 = [set() for i in range(label)]\n",
    "    GP = [[] for i in range(label)]\n",
    "    for v in range(N):\n",
    "        lbs = group[v]\n",
    "        for w in G[v]:\n",
    "            lbt = group[w]\n",
    "            if lbs == lbt:\n",
    "                continue\n",
    "            G0[lbs].add(lbt)\n",
    "        GP[lbs].append(v)\n",
    "    return G0, GP"
   ]
  }
 ],
 "metadata": {
  "kernelspec": {
   "display_name": "Python 3",
   "language": "python",
   "name": "python3"
  },
  "language_info": {
   "codemirror_mode": {
    "name": "ipython",
    "version": 3
   },
   "file_extension": ".py",
   "mimetype": "text/x-python",
   "name": "python",
   "nbconvert_exporter": "python",
   "pygments_lexer": "ipython3",
   "version": "3.7.1"
  }
 },
 "nbformat": 4,
 "nbformat_minor": 2
}
